{
 "cells": [
  {
   "cell_type": "code",
   "execution_count": 11,
   "id": "cf956390",
   "metadata": {},
   "outputs": [],
   "source": [
    "import pandas as pd"
   ]
  },
  {
   "cell_type": "code",
   "execution_count": 12,
   "id": "4164f3a1",
   "metadata": {},
   "outputs": [],
   "source": [
    "df = pd.read_csv('../src/data/index_parsed.csv')"
   ]
  },
  {
   "cell_type": "code",
   "execution_count": 15,
   "id": "bc9c9748",
   "metadata": {},
   "outputs": [
    {
     "data": {
      "text/plain": [
       "(80000, 6)"
      ]
     },
     "execution_count": 15,
     "metadata": {},
     "output_type": "execute_result"
    }
   ],
   "source": [
    "df.shape"
   ]
  },
  {
   "cell_type": "code",
   "execution_count": 16,
   "id": "c781c8e4",
   "metadata": {},
   "outputs": [],
   "source": [
    "df = df.dropna(subset=[\"html_path\"])"
   ]
  },
  {
   "cell_type": "code",
   "execution_count": 18,
   "id": "10462d82",
   "metadata": {},
   "outputs": [
    {
     "data": {
      "text/plain": [
       "(79999, 6)"
      ]
     },
     "execution_count": 18,
     "metadata": {},
     "output_type": "execute_result"
    }
   ],
   "source": [
    "df.shape"
   ]
  },
  {
   "cell_type": "code",
   "execution_count": 19,
   "id": "5aed5bd4",
   "metadata": {},
   "outputs": [],
   "source": [
    "df.to_csv(\"../src/data/index_parsed_clean.csv\", index=False)"
   ]
  },
  {
   "cell_type": "code",
   "execution_count": 1,
   "id": "598efcf3",
   "metadata": {},
   "outputs": [],
   "source": [
    "import pandas as pd"
   ]
  },
  {
   "cell_type": "code",
   "execution_count": 3,
   "id": "a30903a7",
   "metadata": {},
   "outputs": [
    {
     "data": {
      "text/html": [
       "<div>\n",
       "<style scoped>\n",
       "    .dataframe tbody tr th:only-of-type {\n",
       "        vertical-align: middle;\n",
       "    }\n",
       "\n",
       "    .dataframe tbody tr th {\n",
       "        vertical-align: top;\n",
       "    }\n",
       "\n",
       "    .dataframe thead th {\n",
       "        text-align: right;\n",
       "    }\n",
       "</style>\n",
       "<table border=\"1\" class=\"dataframe\">\n",
       "  <thead>\n",
       "    <tr style=\"text-align: right;\">\n",
       "      <th></th>\n",
       "      <th>rec_id</th>\n",
       "      <th>url</th>\n",
       "      <th>html_filename</th>\n",
       "      <th>label</th>\n",
       "      <th>created_date</th>\n",
       "      <th>html_path</th>\n",
       "      <th>Anchor_ratio_same_domain</th>\n",
       "      <th>U_request_unique_ext_domains</th>\n",
       "      <th>Popup_indicators</th>\n",
       "      <th>Links_in_tags_external_count</th>\n",
       "      <th>...</th>\n",
       "      <th>Iframe_elements_count</th>\n",
       "      <th>External_resources_count</th>\n",
       "      <th>Script_tags_count</th>\n",
       "      <th>Meta_refresh_present</th>\n",
       "      <th>Interactive_elements_count</th>\n",
       "      <th>Mismatched_domains_count</th>\n",
       "      <th>Hover_URLs_mismatch</th>\n",
       "      <th>Download_links_count</th>\n",
       "      <th>Mixed_content_http_on_https</th>\n",
       "      <th>URL_params_count</th>\n",
       "    </tr>\n",
       "  </thead>\n",
       "  <tbody>\n",
       "    <tr>\n",
       "      <th>0</th>\n",
       "      <td>2</td>\n",
       "      <td>https://www.mathopenref.com/segment.html</td>\n",
       "      <td>1635698138155948.html</td>\n",
       "      <td>0</td>\n",
       "      <td>2021-10-31 16:35:38</td>\n",
       "      <td>../../data/dataset\\dataset-part-8\\163569813815...</td>\n",
       "      <td>1.000000</td>\n",
       "      <td>0.0</td>\n",
       "      <td>0.0</td>\n",
       "      <td>0.0</td>\n",
       "      <td>...</td>\n",
       "      <td>0.0</td>\n",
       "      <td>0.0</td>\n",
       "      <td>4.0</td>\n",
       "      <td>0.0</td>\n",
       "      <td>10.0</td>\n",
       "      <td>0.0</td>\n",
       "      <td>0.0</td>\n",
       "      <td>0.0</td>\n",
       "      <td>0.0</td>\n",
       "      <td>0.0</td>\n",
       "    </tr>\n",
       "    <tr>\n",
       "      <th>1</th>\n",
       "      <td>3</td>\n",
       "      <td>https://www.computerhope.com/issues/ch000254.htm</td>\n",
       "      <td>1635699228889266.html</td>\n",
       "      <td>0</td>\n",
       "      <td>2021-10-31 16:53:48</td>\n",
       "      <td>../../data/dataset\\dataset-part-8\\163569922888...</td>\n",
       "      <td>0.948052</td>\n",
       "      <td>2.0</td>\n",
       "      <td>0.0</td>\n",
       "      <td>2.0</td>\n",
       "      <td>...</td>\n",
       "      <td>0.0</td>\n",
       "      <td>1.0</td>\n",
       "      <td>8.0</td>\n",
       "      <td>0.0</td>\n",
       "      <td>81.0</td>\n",
       "      <td>4.0</td>\n",
       "      <td>0.0</td>\n",
       "      <td>0.0</td>\n",
       "      <td>0.0</td>\n",
       "      <td>0.0</td>\n",
       "    </tr>\n",
       "    <tr>\n",
       "      <th>2</th>\n",
       "      <td>4</td>\n",
       "      <td>https://www.investopedia.com/terms/n/next-elev...</td>\n",
       "      <td>1635750062162701.html</td>\n",
       "      <td>0</td>\n",
       "      <td>2021-11-01 12:31:02</td>\n",
       "      <td>../../data/dataset\\dataset-part-4\\163575006216...</td>\n",
       "      <td>0.840000</td>\n",
       "      <td>0.0</td>\n",
       "      <td>0.0</td>\n",
       "      <td>0.0</td>\n",
       "      <td>...</td>\n",
       "      <td>1.0</td>\n",
       "      <td>0.0</td>\n",
       "      <td>6.0</td>\n",
       "      <td>0.0</td>\n",
       "      <td>153.0</td>\n",
       "      <td>24.0</td>\n",
       "      <td>0.0</td>\n",
       "      <td>3.0</td>\n",
       "      <td>0.0</td>\n",
       "      <td>0.0</td>\n",
       "    </tr>\n",
       "    <tr>\n",
       "      <th>3</th>\n",
       "      <td>5</td>\n",
       "      <td>https://jobs.emss.org.uk/lcc.aspx</td>\n",
       "      <td>161356510250721.html</td>\n",
       "      <td>0</td>\n",
       "      <td>2021-02-17 18:01:42</td>\n",
       "      <td>../../data/dataset\\dataset-part-5\\161356510250...</td>\n",
       "      <td>0.482759</td>\n",
       "      <td>2.0</td>\n",
       "      <td>0.0</td>\n",
       "      <td>1.0</td>\n",
       "      <td>...</td>\n",
       "      <td>1.0</td>\n",
       "      <td>0.0</td>\n",
       "      <td>17.0</td>\n",
       "      <td>0.0</td>\n",
       "      <td>82.0</td>\n",
       "      <td>30.0</td>\n",
       "      <td>0.0</td>\n",
       "      <td>0.0</td>\n",
       "      <td>0.0</td>\n",
       "      <td>0.0</td>\n",
       "    </tr>\n",
       "    <tr>\n",
       "      <th>4</th>\n",
       "      <td>6</td>\n",
       "      <td>http://www.pracspedia.com/INS/one-time-passwor...</td>\n",
       "      <td>1635697720027445.html</td>\n",
       "      <td>0</td>\n",
       "      <td>2021-10-31 16:28:40</td>\n",
       "      <td>../../data/dataset\\dataset-part-2\\163569772002...</td>\n",
       "      <td>1.000000</td>\n",
       "      <td>0.0</td>\n",
       "      <td>0.0</td>\n",
       "      <td>0.0</td>\n",
       "      <td>...</td>\n",
       "      <td>0.0</td>\n",
       "      <td>0.0</td>\n",
       "      <td>0.0</td>\n",
       "      <td>0.0</td>\n",
       "      <td>0.0</td>\n",
       "      <td>0.0</td>\n",
       "      <td>0.0</td>\n",
       "      <td>0.0</td>\n",
       "      <td>0.0</td>\n",
       "      <td>0.0</td>\n",
       "    </tr>\n",
       "  </tbody>\n",
       "</table>\n",
       "<p>5 rows × 46 columns</p>\n",
       "</div>"
      ],
      "text/plain": [
       "   rec_id                                                url  \\\n",
       "0       2           https://www.mathopenref.com/segment.html   \n",
       "1       3   https://www.computerhope.com/issues/ch000254.htm   \n",
       "2       4  https://www.investopedia.com/terms/n/next-elev...   \n",
       "3       5                  https://jobs.emss.org.uk/lcc.aspx   \n",
       "4       6  http://www.pracspedia.com/INS/one-time-passwor...   \n",
       "\n",
       "           html_filename  label         created_date  \\\n",
       "0  1635698138155948.html      0  2021-10-31 16:35:38   \n",
       "1  1635699228889266.html      0  2021-10-31 16:53:48   \n",
       "2  1635750062162701.html      0  2021-11-01 12:31:02   \n",
       "3   161356510250721.html      0  2021-02-17 18:01:42   \n",
       "4  1635697720027445.html      0  2021-10-31 16:28:40   \n",
       "\n",
       "                                           html_path  \\\n",
       "0  ../../data/dataset\\dataset-part-8\\163569813815...   \n",
       "1  ../../data/dataset\\dataset-part-8\\163569922888...   \n",
       "2  ../../data/dataset\\dataset-part-4\\163575006216...   \n",
       "3  ../../data/dataset\\dataset-part-5\\161356510250...   \n",
       "4  ../../data/dataset\\dataset-part-2\\163569772002...   \n",
       "\n",
       "   Anchor_ratio_same_domain  U_request_unique_ext_domains  Popup_indicators  \\\n",
       "0                  1.000000                           0.0               0.0   \n",
       "1                  0.948052                           2.0               0.0   \n",
       "2                  0.840000                           0.0               0.0   \n",
       "3                  0.482759                           2.0               0.0   \n",
       "4                  1.000000                           0.0               0.0   \n",
       "\n",
       "   Links_in_tags_external_count  ...  Iframe_elements_count  \\\n",
       "0                           0.0  ...                    0.0   \n",
       "1                           2.0  ...                    0.0   \n",
       "2                           0.0  ...                    1.0   \n",
       "3                           1.0  ...                    1.0   \n",
       "4                           0.0  ...                    0.0   \n",
       "\n",
       "   External_resources_count  Script_tags_count  Meta_refresh_present  \\\n",
       "0                       0.0                4.0                   0.0   \n",
       "1                       1.0                8.0                   0.0   \n",
       "2                       0.0                6.0                   0.0   \n",
       "3                       0.0               17.0                   0.0   \n",
       "4                       0.0                0.0                   0.0   \n",
       "\n",
       "   Interactive_elements_count  Mismatched_domains_count  Hover_URLs_mismatch  \\\n",
       "0                        10.0                       0.0                  0.0   \n",
       "1                        81.0                       4.0                  0.0   \n",
       "2                       153.0                      24.0                  0.0   \n",
       "3                        82.0                      30.0                  0.0   \n",
       "4                         0.0                       0.0                  0.0   \n",
       "\n",
       "   Download_links_count  Mixed_content_http_on_https  URL_params_count  \n",
       "0                   0.0                          0.0               0.0  \n",
       "1                   0.0                          0.0               0.0  \n",
       "2                   3.0                          0.0               0.0  \n",
       "3                   0.0                          0.0               0.0  \n",
       "4                   0.0                          0.0               0.0  \n",
       "\n",
       "[5 rows x 46 columns]"
      ]
     },
     "execution_count": 3,
     "metadata": {},
     "output_type": "execute_result"
    }
   ],
   "source": [
    "df = pd.read_csv(\"../data/html_dom_features.csv\")\n",
    "\n",
    "if \"feature_error\" in df.columns:\n",
    "    df = df[df[\"feature_error\"].isna()]\n",
    "    df = df.drop(columns=[\"feature_error\"])\n",
    "\n",
    "df.head()"
   ]
  },
  {
   "cell_type": "code",
   "execution_count": 4,
   "id": "bee64635",
   "metadata": {},
   "outputs": [],
   "source": [
    "df.to_csv(\"html_dom_features_cleaned.csv\", index=False)"
   ]
  },
  {
   "cell_type": "code",
   "execution_count": 5,
   "id": "166f883f",
   "metadata": {},
   "outputs": [
    {
     "name": "stdout",
     "output_type": "stream",
     "text": [
      "0    49991\n",
      "1    27756\n",
      "Name: label, dtype: int64\n"
     ]
    }
   ],
   "source": [
    "print(df[\"label\"].value_counts())"
   ]
  },
  {
   "cell_type": "code",
   "execution_count": null,
   "id": "2dab8416",
   "metadata": {},
   "outputs": [],
   "source": []
  }
 ],
 "metadata": {
  "kernelspec": {
   "display_name": "Python 3",
   "language": "python",
   "name": "python3"
  },
  "language_info": {
   "codemirror_mode": {
    "name": "ipython",
    "version": 3
   },
   "file_extension": ".py",
   "mimetype": "text/x-python",
   "name": "python",
   "nbconvert_exporter": "python",
   "pygments_lexer": "ipython3",
   "version": "3.10.11"
  }
 },
 "nbformat": 4,
 "nbformat_minor": 5
}

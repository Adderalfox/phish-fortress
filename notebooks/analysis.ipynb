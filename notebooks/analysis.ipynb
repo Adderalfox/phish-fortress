{
 "cells": [
  {
   "cell_type": "code",
   "execution_count": 11,
   "id": "cf956390",
   "metadata": {},
   "outputs": [],
   "source": [
    "import pandas as pd"
   ]
  },
  {
   "cell_type": "code",
   "execution_count": 12,
   "id": "4164f3a1",
   "metadata": {},
   "outputs": [],
   "source": [
    "df = pd.read_csv('../src/data/index_parsed.csv')"
   ]
  },
  {
   "cell_type": "code",
   "execution_count": 15,
   "id": "bc9c9748",
   "metadata": {},
   "outputs": [
    {
     "data": {
      "text/plain": [
       "(80000, 6)"
      ]
     },
     "execution_count": 15,
     "metadata": {},
     "output_type": "execute_result"
    }
   ],
   "source": [
    "df.shape"
   ]
  },
  {
   "cell_type": "code",
   "execution_count": 16,
   "id": "c781c8e4",
   "metadata": {},
   "outputs": [],
   "source": [
    "df = df.dropna(subset=[\"html_path\"])"
   ]
  },
  {
   "cell_type": "code",
   "execution_count": 18,
   "id": "10462d82",
   "metadata": {},
   "outputs": [
    {
     "data": {
      "text/plain": [
       "(79999, 6)"
      ]
     },
     "execution_count": 18,
     "metadata": {},
     "output_type": "execute_result"
    }
   ],
   "source": [
    "df.shape"
   ]
  },
  {
   "cell_type": "code",
   "execution_count": 19,
   "id": "5aed5bd4",
   "metadata": {},
   "outputs": [],
   "source": [
    "df.to_csv(\"../src/data/index_parsed_clean.csv\", index=False)"
   ]
  },
  {
   "cell_type": "code",
   "execution_count": null,
   "id": "598efcf3",
   "metadata": {},
   "outputs": [],
   "source": []
  }
 ],
 "metadata": {
  "kernelspec": {
   "display_name": "Python 3",
   "language": "python",
   "name": "python3"
  },
  "language_info": {
   "codemirror_mode": {
    "name": "ipython",
    "version": 3
   },
   "file_extension": ".py",
   "mimetype": "text/x-python",
   "name": "python",
   "nbconvert_exporter": "python",
   "pygments_lexer": "ipython3",
   "version": "3.10.11"
  }
 },
 "nbformat": 4,
 "nbformat_minor": 5
}
